{
  "nbformat": 4,
  "nbformat_minor": 0,
  "metadata": {
    "colab": {
      "provenance": [],
      "authorship_tag": "ABX9TyONEqJANIxktkGwodMI5TRw",
      "include_colab_link": true
    },
    "kernelspec": {
      "name": "python3",
      "display_name": "Python 3"
    },
    "language_info": {
      "name": "python"
    }
  },
  "cells": [
    {
      "cell_type": "markdown",
      "metadata": {
        "id": "view-in-github",
        "colab_type": "text"
      },
      "source": [
        "<a href=\"https://colab.research.google.com/github/kaduard0/Cursos_Python/blob/main/Untitled0.ipynb\" target=\"_parent\"><img src=\"https://colab.research.google.com/assets/colab-badge.svg\" alt=\"Open In Colab\"/></a>"
      ]
    },
    {
      "cell_type": "code",
      "execution_count": null,
      "metadata": {
        "colab": {
          "base_uri": "https://localhost:8080/",
          "height": 241
        },
        "id": "ruk-wlX3LuCb",
        "outputId": "6e068efe-7e24-4c16-d217-275bf6b01e40"
      },
      "outputs": [
        {
          "name": "stdout",
          "output_type": "stream",
          "text": [
            "Digite o raio da circumferencia\n",
            "3\n"
          ]
        },
        {
          "output_type": "error",
          "ename": "ValueError",
          "evalue": "ignored",
          "traceback": [
            "\u001b[0;31m---------------------------------------------------------------------------\u001b[0m",
            "\u001b[0;31mValueError\u001b[0m                                Traceback (most recent call last)",
            "\u001b[0;32m<ipython-input-11-420db9799ecd>\u001b[0m in \u001b[0;36m<module>\u001b[0;34m\u001b[0m\n\u001b[1;32m      7\u001b[0m \u001b[0mcomprimento\u001b[0m \u001b[0;34m=\u001b[0m \u001b[0;36m2\u001b[0m \u001b[0;34m*\u001b[0m \u001b[0mraio\u001b[0m \u001b[0;34m*\u001b[0m \u001b[0mpi\u001b[0m\u001b[0;34m\u001b[0m\u001b[0;34m\u001b[0m\u001b[0m\n\u001b[1;32m      8\u001b[0m \u001b[0;31m#imprimir na tela\u001b[0m\u001b[0;34m\u001b[0m\u001b[0;34m\u001b[0m\u001b[0m\n\u001b[0;32m----> 9\u001b[0;31m \u001b[0mprint\u001b[0m\u001b[0;34m(\u001b[0m\u001b[0;34m'O comprimento ficou em:{:.2f }'\u001b[0m\u001b[0;34m.\u001b[0m\u001b[0mformat\u001b[0m\u001b[0;34m(\u001b[0m\u001b[0mcomprimento\u001b[0m\u001b[0;34m)\u001b[0m\u001b[0;34m)\u001b[0m\u001b[0;34m\u001b[0m\u001b[0;34m\u001b[0m\u001b[0m\n\u001b[0m",
            "\u001b[0;31mValueError\u001b[0m: Invalid format specifier"
          ]
        }
      ],
      "source": [
        "#importação da biblioteca math\n",
        "from math import pi \n",
        "#declaração da variavel\n",
        "print ('Digite o raio da circumferencia')\n",
        "raio = float (input())\n",
        "#calcupar o comprimento\n",
        "comprimento = 2 * raio * pi\n",
        "#imprimir na tela\n",
        "print('O comprimento ficou em:{:.2f }'.format(comprimento))"
      ]
    },
    {
      "cell_type": "code",
      "source": [
        "nome = 'carlos'\n",
        "idade = 20\n",
        "estado = 'solteiro'\n",
        "filho = True\n",
        "print ('meu nome e {}, tenho {} anos'. format(nome, idade))"
      ],
      "metadata": {
        "colab": {
          "base_uri": "https://localhost:8080/"
        },
        "id": "qxqJ6XcZUWtB",
        "outputId": "764178e7-c353-46b3-b1c6-af6dcffe5934"
      },
      "execution_count": null,
      "outputs": [
        {
          "output_type": "stream",
          "name": "stdout",
          "text": [
            "meu nome e carlos, tenho 20 anos\n"
          ]
        }
      ]
    },
    {
      "cell_type": "code",
      "source": [
        "#Declaração da variavel\n",
        "numero = int(input('Digite um numero inteiro: '))\n",
        "#Calcular o antecessor\n",
        "ant = numero - 1 \n",
        "#caucular o sucessor\n",
        "suc = numero + 1\n",
        "#Imprimir na tela \n",
        "print(f\"Antecessor de {numero} = {ant}\")\n",
        "print(\"Sucessor de {} = {}\".format(numero,suc))"
      ],
      "metadata": {
        "colab": {
          "base_uri": "https://localhost:8080/"
        },
        "id": "dQqK3ytyV9kW",
        "outputId": "40ea2f1c-478f-4743-a25c-13523ef96bb0"
      },
      "execution_count": null,
      "outputs": [
        {
          "output_type": "stream",
          "name": "stdout",
          "text": [
            "Digite um numero inteiro: 3\n",
            "Antecessor de 3 = 2\n",
            "Sucessor de 3 = 4\n"
          ]
        }
      ]
    },
    {
      "cell_type": "code",
      "source": [
        "print(\"|   A\\t|   B\\t| SAÍDA |\")\n",
        "print(\"|\",False,\"|\",False,\"|\",False and False,\"|\")\n",
        "print(\"|\",True,\"\\t|\",False,\"|\",True and False,\"|\")\n",
        "print(\"|\",False,\"|\",True,\"\\t|\",False and True,\"|\")\n",
        "print(\"|\",True,\"\\t|\",True,\"\\t|\",True and True,\"\\t|\")\n"
      ],
      "metadata": {
        "colab": {
          "base_uri": "https://localhost:8080/"
        },
        "id": "-aY2-yG8aK09",
        "outputId": "54e8f8fb-238a-4a63-d3a9-471a6877b63a"
      },
      "execution_count": null,
      "outputs": [
        {
          "output_type": "stream",
          "name": "stdout",
          "text": [
            "|   A\t|   B\t| SAÍDA |\n",
            "| False | False | False |\n",
            "| True \t| False | False |\n",
            "| False | True \t| False |\n",
            "| True \t| True \t| True \t|\n"
          ]
        }
      ]
    },
    {
      "cell_type": "code",
      "source": [
        "# Colocar 7 == 7, verificar a resposta na execussão do programa;\n",
        "print(7 == 7)\n",
        "# Colocar 7 == 5, verificar a resposta na execussão do programa;\n",
        "print( 7 == 5)\n"
      ],
      "metadata": {
        "colab": {
          "base_uri": "https://localhost:8080/"
        },
        "id": "p4PujwF3crSq",
        "outputId": "026d9a80-6099-470c-e4df-4d5908253760"
      },
      "execution_count": null,
      "outputs": [
        {
          "output_type": "stream",
          "name": "stdout",
          "text": [
            "True\n",
            "False\n"
          ]
        }
      ]
    },
    {
      "cell_type": "code",
      "source": [
        "# Colocar 7 < 7, verificar a resposta na execussão do programa;\n",
        "print( 7 < 7) # False\n",
        "# Colocar 7 < 10, verificar a resposta na execussão do programa;\n",
        "print( 7 < 10) # True\n",
        "# Colocar 7 > 7, verificar a resposta na execussão do programa;\n",
        "print ( 7 > 7) # False\n",
        "# Colocar 7 > 5, verificar a resposta na execussão do programa;\n",
        "print(7 > 5) # True\n"
      ],
      "metadata": {
        "colab": {
          "base_uri": "https://localhost:8080/"
        },
        "id": "nEg99Wj3d7xm",
        "outputId": "d5d48e26-bbfe-4680-fb67-e5a8a05b3109"
      },
      "execution_count": null,
      "outputs": [
        {
          "output_type": "stream",
          "name": "stdout",
          "text": [
            "False\n",
            "True\n",
            "False\n",
            "True\n"
          ]
        }
      ]
    },
    {
      "cell_type": "code",
      "source": [
        "# Colocar 7 <= 7, verificar a resposta na execução do programa;\n",
        "print(7 <= 7)\n",
        "# Colocar 7 <= 10, verificar a resposta na execução do programa;\n",
        "print(7 <= 10)\n",
        "# Colocar 7 >= 7, verificar a resposta na execução do programa;\n",
        "print(7 >= 7)\n",
        "# Colocar 7 >= 5, verificar a resposta na execução do programa;\n",
        "print(7 >= 5)\n"
      ],
      "metadata": {
        "colab": {
          "base_uri": "https://localhost:8080/"
        },
        "id": "9_A57lQ5eAT4",
        "outputId": "1fd25f8b-2f5d-4c23-cebc-15e306cb6eca"
      },
      "execution_count": null,
      "outputs": [
        {
          "output_type": "stream",
          "name": "stdout",
          "text": [
            "True\n",
            "True\n",
            "True\n",
            "True\n"
          ]
        }
      ]
    },
    {
      "cell_type": "code",
      "source": [
        "# Colocar 7 != 7, verificar a resposta na execução do programa;\n",
        "print(7 != 7)\n",
        "# Colocar 7 != 5, verificar a resposta na execução do programa;\n",
        "print( 7 != 5)\n"
      ],
      "metadata": {
        "colab": {
          "base_uri": "https://localhost:8080/"
        },
        "id": "RkHLLKiIeBxE",
        "outputId": "3867420e-9044-4666-be64-ffd44968f849"
      },
      "execution_count": null,
      "outputs": [
        {
          "output_type": "stream",
          "name": "stdout",
          "text": [
            "False\n",
            "True\n"
          ]
        }
      ]
    },
    {
      "cell_type": "code",
      "source": [
        "print(\"|   A\\t|   B\\t| SAÍDA |\")\n",
        "print(\"|\",False,\"|\",False,\"|\",False and False,\"|\")\n",
        "print(\"|\",True,\"\\t|\",False,\"|\",True and False,\"|\")\n",
        "print(\"|\",False,\"|\",True,\"\\t|\",False and True,\"|\")\n",
        "print(\"|\",True,\"\\t|\",True,\"\\t|\",True and True,\"\\t|\")\n"
      ],
      "metadata": {
        "colab": {
          "base_uri": "https://localhost:8080/"
        },
        "id": "z1Hpmc6SeF6U",
        "outputId": "50cd6506-8759-4514-c018-a7e69659ab8b"
      },
      "execution_count": null,
      "outputs": [
        {
          "output_type": "stream",
          "name": "stdout",
          "text": [
            "|   A\t|   B\t| SAÍDA |\n",
            "| False | False | False |\n",
            "| True \t| False | False |\n",
            "| False | True \t| False |\n",
            "| True \t| True \t| True \t|\n"
          ]
        }
      ]
    },
    {
      "cell_type": "code",
      "source": [
        "# EXEMPLO: Verificar se uma idade é maior do que a 17 E menor do que 71.\n",
        "\n",
        "idade = int(input(\"Idade: \"))\n",
        "print(idade > 17 and idade < 71)\n"
      ],
      "metadata": {
        "colab": {
          "base_uri": "https://localhost:8080/"
        },
        "id": "TIQQ9KNCeGGs",
        "outputId": "2a86b78a-d84a-4201-a71e-84be4455ddf8"
      },
      "execution_count": null,
      "outputs": [
        {
          "output_type": "stream",
          "name": "stdout",
          "text": [
            "Idade: 20\n",
            "True\n"
          ]
        }
      ]
    },
    {
      "cell_type": "code",
      "source": [
        "print(\"|   A\\t|   B\\t| SAÍDA |\")\n",
        "print(\"|\",False,\"|\",False,\"|\",False or False,\"|\")\n",
        "print(\"|\",True,\"\\t|\",False,\"|\",True or False,\" |\")\n",
        "print(\"|\",False,\"|\",True,\"\\t|\",False or True,\" |\")\n",
        "print(\"|\",True,\"\\t|\",True,\"\\t|\",True or True,\" |\")\n"
      ],
      "metadata": {
        "colab": {
          "base_uri": "https://localhost:8080/"
        },
        "id": "gnHhCZ-6eURa",
        "outputId": "bb89a787-a0a4-4ed6-9086-21cb72f86593"
      },
      "execution_count": null,
      "outputs": [
        {
          "output_type": "stream",
          "name": "stdout",
          "text": [
            "|   A\t|   B\t| SAÍDA |\n",
            "| False | False | False |\n",
            "| True \t| False | True  |\n",
            "| False | True \t| True  |\n",
            "| True \t| True \t| True  |\n"
          ]
        }
      ]
    },
    {
      "cell_type": "code",
      "source": [
        "# EXEMPLO: Verificar se uma idade é menor do que a 18 OU maior do que 70.\n",
        "\n",
        "idade = int(input(\"Idade: \"))\n",
        "print(idade < 18 or idade > 70)\n"
      ],
      "metadata": {
        "colab": {
          "base_uri": "https://localhost:8080/"
        },
        "id": "7cPjgec9eZkd",
        "outputId": "b2adda6e-55ff-4b29-f4be-41ecf73fccde"
      },
      "execution_count": null,
      "outputs": [
        {
          "output_type": "stream",
          "name": "stdout",
          "text": [
            "Idade: 20\n",
            "False\n"
          ]
        }
      ]
    },
    {
      "cell_type": "code",
      "source": [
        "print(\"|   A\\t| Não A |\")\n",
        "print(\"|\",False,\"|\",not False,\"\\t|\")\n",
        "print(\"|\",True,\"\\t|\",not True,\"|\")\n"
      ],
      "metadata": {
        "colab": {
          "base_uri": "https://localhost:8080/"
        },
        "id": "EQTd9dX4ebwQ",
        "outputId": "65277831-bba5-43ee-f7eb-5404ce169ad4"
      },
      "execution_count": null,
      "outputs": [
        {
          "output_type": "stream",
          "name": "stdout",
          "text": [
            "|   A\t| Não A |\n",
            "| False | True \t|\n",
            "| True \t| False |\n"
          ]
        }
      ]
    },
    {
      "cell_type": "code",
      "source": [
        "print(\"|   A\\t|   B\\t| SAÍDA |\")\n",
        "print(\"|\",False,\"|\",False,\"|\",False ^ False,\"|\")\n",
        "print(\"|\",True,\"\\t|\",False,\"|\",True ^ False,\"\\t|\")\n",
        "print(\"|\",False,\"|\",True,\"\\t|\",False ^ True,\"\\t|\")\n",
        "print(\"|\",True,\"\\t|\",True,\"\\t|\",True ^ True,\"|\")\n"
      ],
      "metadata": {
        "colab": {
          "base_uri": "https://localhost:8080/"
        },
        "id": "lIfuZrjPff9q",
        "outputId": "f2e0c385-bfb8-4412-9854-e330f1403e14"
      },
      "execution_count": null,
      "outputs": [
        {
          "output_type": "stream",
          "name": "stdout",
          "text": [
            "|   A\t|   B\t| SAÍDA |\n",
            "| False | False | False |\n",
            "| True \t| False | True \t|\n",
            "| False | True \t| True \t|\n",
            "| True \t| True \t| False |\n"
          ]
        }
      ]
    },
    {
      "cell_type": "code",
      "source": [
        "n = 2\n",
        "if n == 2:\n",
        "    print(\"{} igual a 2\".format(n))\n",
        "    print('eu')\n"
      ],
      "metadata": {
        "colab": {
          "base_uri": "https://localhost:8080/"
        },
        "id": "zpM3LYyCfmRJ",
        "outputId": "7f0f6c24-e1d1-442d-b3a5-2549cc4d3e9e"
      },
      "execution_count": null,
      "outputs": [
        {
          "output_type": "stream",
          "name": "stdout",
          "text": [
            "2 igual a 2\n",
            "eu\n"
          ]
        }
      ]
    },
    {
      "cell_type": "code",
      "source": [
        "n = 3\n",
        "if n == 2: #3 == 2:\n",
        "    print(\"{} é igual \")"
      ],
      "metadata": {
        "id": "DD2x-tsjhPpw"
      },
      "execution_count": null,
      "outputs": []
    },
    {
      "cell_type": "code",
      "source": [
        "# -*- coding: utf-8 -*-\n",
        "\"\"\"Cópia de Aula_2_2022.ipynb\n",
        "\n",
        "Automatically generated by Colaboratory.\n",
        "\n",
        "Original file is located at\n",
        "    https://colab.research.google.com/drive/1SLmK7zJZDvRZzOc6NZ3fLXitAaF1QSGG\n",
        "\n",
        "#SEGUNDA AULA DE PYTHON\n",
        "\n",
        "##1 - Operadores Lógicos\n",
        "Diferente dos operadores aritméticos, os operadores lógicos retornam **True** 😀 ou **False** 😠 como resposta.\n",
        "\n",
        "###Operadores Relacionais\n",
        "São aqueles que fazem a comparação entre dois ou mais valores.\n",
        "\n",
        "####1. Operador de igualdade (==)\n",
        "\"\"\"\n",
        "\n",
        "# Colocar 7 == 7, verificar a resposta na execussão do programa;\n",
        "\n",
        "# Colocar 7 == 5, verificar a resposta na execussão do programa;\n",
        "\n",
        "\"\"\"####2. Operadores menor que (<) e maior que (>)\n",
        "\n",
        "\"\"\"\n",
        "\n",
        "# Colocar 7 < 7, verificar a resposta na execussão do programa;\n",
        "\n",
        "# Colocar 7 < 10, verificar a resposta na execussão do programa;\n",
        "\n",
        "# Colocar 7 > 7, verificar a resposta na execussão do programa;\n",
        "\n",
        "# Colocar 7 > 5, verificar a resposta na execussão do programa;\n",
        "\n",
        "\"\"\"####3. Operadores menor ou igual que (<) e maior ou igual que (>)\"\"\"\n",
        "\n",
        "# Colocar 7 <= 7, verificar a resposta na execussão do programa;\n",
        "\n",
        "# Colocar 7 <= 10, verificar a resposta na execussão do programa;\n",
        "\n",
        "# Colocar 7 >= 7, verificar a resposta na execussão do programa;\n",
        "\n",
        "# Colocar 7 >= 5, verificar a resposta na execussão do programa;\n",
        "\n",
        "\"\"\"####4. Operador de diferente (!=)\"\"\"\n",
        "\n",
        "# Colocar 7 != 7, verificar a resposta na execussão do programa;\n",
        "\n",
        "# Colocar 7 != 5, verificar a resposta na execussão do programa;\n",
        "\n",
        "\"\"\"##2 - Tabelas Verdade\n",
        "São tabelas que mostram algumas situações de entrada e suas saídas\n",
        "\n",
        "####1. Tabela do E (AND)\n",
        "O operador **AND** deve ser usado quando temos 2 ou mais condições que devem ser verdadeiras para o programa executar a ação desejada\n",
        "\"\"\"\n",
        "\n",
        "print(\"|   A\\t|   B\\t| SAÍDA |\")\n",
        "print(\"|\",False,\"|\",False,\"|\",False and False,\"|\")\n",
        "print(\"|\",True,\"\\t|\",False,\"|\",True and False,\"|\")\n",
        "print(\"|\",False,\"|\",True,\"\\t|\",False and True,\"|\")\n",
        "print(\"|\",True,\"\\t|\",True,\"\\t|\",True and True,\"\\t|\")\n",
        "\n",
        "# EXEMPLO: Verificar se uma idade é maior do que a 17 E menor do que 71.\n",
        "\n",
        "idade = int(input(\"Idade: \"))\n",
        "print(idade > 17 and idade < 71)\n",
        "\n",
        "\"\"\"####2. Tabela do OU (OR)\n",
        "O operador **OR** deve ser usado quando, pelo menos, 1 das condições for verdadeira para realizar uma ação desejada\n",
        "\"\"\"\n",
        "\n",
        "print(\"|   A\\t|   B\\t| SAÍDA |\")\n",
        "print(\"|\",False,\"|\",False,\"|\",False or False,\"|\")\n",
        "print(\"|\",True,\"\\t|\",False,\"|\",True or False,\" |\")\n",
        "print(\"|\",False,\"|\",True,\"\\t|\",False or True,\" |\")\n",
        "print(\"|\",True,\"\\t|\",True,\"\\t|\",True or True,\" |\")\n",
        "\n",
        "# EXEMPLO: Verificar se uma idade é menor do que a 18 OU maior do que 70.\n",
        "\n",
        "idade = int(input(\"Idade: \"))\n",
        "print(idade < 18 or idade > 70)\n",
        "\n",
        "\"\"\"####3. Tabela do XOR (^)\"\"\"\n",
        "\n",
        "print(\"|   A\\t|   B\\t| SAÍDA |\")\n",
        "print(\"|\",False,\"|\",False,\"|\",False ^ False,\"|\")\n",
        "print(\"|\",True,\"\\t|\",False,\"|\",True ^ False,\"\\t|\")\n",
        "print(\"|\",False,\"|\",True,\"\\t|\",False ^ True,\"\\t|\")\n",
        "print(\"|\",True,\"\\t|\",True,\"\\t|\",True ^ True,\"|\")\n",
        "\n",
        "# Reprodução de porcos\n",
        "# Coloque 0 para leitão e 1 para leitoa em uma lista\n",
        "\n",
        "\"\"\"####4. Tabela de Negação (not)\"\"\"\n",
        "\n",
        "print(\"|   A\\t| Não A |\")\n",
        "print(\"|\",False,\"|\",not False,\"\\t|\")\n",
        "print(\"|\",True,\"\\t|\",not True,\"|\")\n",
        "\n",
        "\"\"\"##3 - Condicionais\n",
        "\n",
        "#### Condição SE (IF)\n",
        "Usamos este tipo de condicional quando necessitamos que o programa teste algumas condições. Caso a condição seja verdadeira, o programa executará uma ação destinada àquela condição.\n",
        "\n",
        "```\n",
        "if condição 1:\n",
        "    bloco de códigos do if\n",
        "\n",
        "```\n",
        "Faz-se necessário que o código tenha esta estrutura, senão o Python apresentará erro de identação.\n",
        "\"\"\"\n",
        "\n",
        "n = 3\n",
        "if n == 2:\n",
        "    print(\"{} igual a 2\".format(n))\n",
        "\n",
        "\"\"\"#### Condição SENÃO (ELSE)\n",
        "Para usar o else, temos que ter usado o if antes.\n",
        "```\n",
        "if condição 1:\n",
        "    bloco de códigos do if\n",
        "    \n",
        "else:\n",
        "    bloco de código do else.\n",
        "    Aqui finaliza a condicional\n",
        "```\n",
        "\"\"\"\n",
        "\n",
        "n = 3\n",
        "if n == 2:\n",
        "    print(\"{} igual a 2\".format(n))\n",
        "else:\n",
        "    print(\"{} diferente a 2\".format(n))\n",
        "\n",
        "\"\"\"#### Condição SENÃO SE (ELIF)\n",
        "O elif deve ser utilizado quando temos mais do que uma condição.\n",
        "\n",
        "\n",
        "```\n",
        "if condição 1:\n",
        "    bloco de códigos do if\n",
        "\n",
        "elif condição 2:\n",
        "    bloco de código do elif\n",
        "    \n",
        "else:\n",
        "    bloco de código do else.\n",
        "    Aqui finaliza a condicional\n",
        "```\n",
        "\n",
        "\n",
        "\"\"\"\n",
        "\n",
        "\n",
        "\n",
        "\"\"\"##4 - Exercícios\n",
        "\n",
        "###1 - Qual o maior.\n",
        "*Escreva um programa que recebe 2 valores e devolve o maior entre eles.*\n",
        "\"\"\"\n",
        "\n",
        "# Declaração da variável 1\n",
        "\n",
        "# Declaração da variável 2\n",
        "\n",
        "# Imprimir na tela mensagem: \"O X é maior do que o Y\"\n",
        "\n",
        "\"\"\"### 2 - Calculadora de preço da laranja.\n",
        "*Cada laranja custa R\\$ 0,3. Mas quando compradas acima de uma dúzia, seu valor cai para R\\$ 0,25 cada*\n",
        "\"\"\"\n",
        "\n",
        "# Declarar a entrada da quantidade de laranjas a ser comprada\n",
        "\n",
        "# Declaração de if\n",
        "\n",
        "# Declaração else\n",
        "\n",
        "# Imprimir na tela a mensagem: \"x laranjas por Y reais totaliza: R$ Z\"\n",
        "\n",
        "\"\"\"###3 - Caluladora de Peso Ideal \n",
        "Fazer uma calculadora em que o usuário digita Altura em metros e Peso em quilos e se é do sexo biológico Masculino ou Feminino. O programa devolve ao usuário a informação qual seu peso ideal e quando precisa emagrecer para chegar lá. \n",
        "Ao final, o programa deve trazer uma frase motivadora para aqueles que estão acima do peso, frase parabenizando os que estão no peso ideal e uma outra frase de alerta aos que estão abaixo do peso.\n",
        "***Fórmulas***\n",
        "\n",
        "        >Masculino: (72.7 * Altura) - 50\n",
        "        >Feminino: (62.1 * Altura) - 44.7\n",
        "\n",
        "\"\"\"\n",
        "\n",
        "# Declarar a entrada da Altura\n",
        "\n",
        "# Declarar a entrada do Peso\n",
        "\n",
        "# Declarar a entrada do Sexo Biológico\n",
        "\n",
        "# Declaração de if para calcular peso ideal\n",
        "\n",
        "# Declaração de elif para calcular peso ideal\n",
        "\n",
        "# Declaração else\n",
        "\n",
        "# Calcular diferença entre peso ideal e peso atual\n",
        "\n",
        "# Declaração de if para acima do peso - A devolutiva para o usuário vem dentro do if\n",
        "\n",
        "# Declaração de elif para abaixo do peso - A devolutiva para o usuário vem dentro do elif\n",
        "\n",
        "# Declaração de else - A devolutiva para o usuário vem dentro do else\n",
        "\n",
        "\"\"\"###4 - É triangulo ou Não é triângulo?\n",
        "Para determinar se 3 segmentos de reta formam um triângulo, podemos fazer a verificação se a soma dos dois menores segmentos é maior do que o segmento maior.\n",
        "\n",
        "---\n",
        "    Segmentos: 2, 3 e 4\n",
        "    Soma dos dois menores: 2 + 3 = 5\n",
        "    Verificação: 5 > 4\n",
        "    Conclusão:Estes segmentos formam um triângulo\n",
        "---\n",
        "\"\"\"\n",
        "\n",
        "# Declaração do primeiro segmento\n",
        "\n",
        "# Declaração do segundo segmento\n",
        "\n",
        "# Declaração do terceiro segmento\n",
        "\n",
        "# Neste if, usar AND para avaliaar se o 1º segmento é o menor\n",
        "\n",
        "# Neste elif, usar AND para avaliaar se o 2º segmento é o maior\n",
        "\n",
        "# Neste elif, usar AND para avaliar se o 3º segmento é o maior\n",
        "\n",
        "# Else para possíveis erros de digitação\n",
        "\n",
        "# Verificação se é triângulo e informar ao usuário.\n",
        "\n",
        "\"\"\"##Desafio\n",
        "Um posto de gasolina está vendendo combustíveis com a seguinte tabela de descontos:\n",
        "**Gasolina:**\n",
        ">Até 20 litros: desconto de 4% por litro<br>\n",
        ">Acima de 20 litros: desconto de 6% por litro<br>\n",
        "\n",
        "**Álcool:**\n",
        ">Até 20 litros: desconto de 3% por litro<br>\n",
        ">Acima de 20 litros: desconto de 5% por litro<br>\n",
        "\n",
        "Escreva um programa que leia o tipo de combustível (A - Álcool e G - Gasolina), calcule e imprima o valor a ser pago pelo cliente.\n",
        "\n",
        "---\n",
        "\n",
        "*PARA TORNAR O DESAFIO INTERESSANTE, VAMOS FAZER O PROGRAMA CRIAR UM NÚMERO ALEATÓRIO PARA O ABASTECIMENTO. ESTE NÚMERO DEVERÁ SER ENTRE 1 E 52*\n",
        "\n",
        "---\n",
        "\"\"\"\n",
        "\n"
      ],
      "metadata": {
        "colab": {
          "base_uri": "https://localhost:8080/",
          "height": 571
        },
        "id": "2yrq6Q7xiIXr",
        "outputId": "41f01513-ae5b-40e8-90ae-98062f994c68"
      },
      "execution_count": null,
      "outputs": [
        {
          "output_type": "stream",
          "name": "stdout",
          "text": [
            "|   A\t|   B\t| SAÍDA |\n",
            "| False | False | False |\n",
            "| True \t| False | False |\n",
            "| False | True \t| False |\n",
            "| True \t| True \t| True \t|\n",
            "Idade: 10\n",
            "False\n",
            "|   A\t|   B\t| SAÍDA |\n",
            "| False | False | False |\n",
            "| True \t| False | True  |\n",
            "| False | True \t| True  |\n",
            "| True \t| True \t| True  |\n",
            "Idade: 20\n",
            "False\n",
            "|   A\t|   B\t| SAÍDA |\n",
            "| False | False | False |\n",
            "| True \t| False | True \t|\n",
            "| False | True \t| True \t|\n",
            "| True \t| True \t| False |\n",
            "|   A\t| Não A |\n",
            "| False | True \t|\n",
            "| True \t| False |\n",
            "3 diferente a 2\n"
          ]
        },
        {
          "output_type": "execute_result",
          "data": {
            "text/plain": [
              "'##Desafio\\nUm posto de gasolina está vendendo combustíveis com a seguinte tabela de descontos:\\n**Gasolina:**\\n>Até 20 litros: desconto de 4% por litro<br>\\n>Acima de 20 litros: desconto de 6% por litro<br>\\n\\n**Álcool:**\\n>Até 20 litros: desconto de 3% por litro<br>\\n>Acima de 20 litros: desconto de 5% por litro<br>\\n\\nEscreva um programa que leia o tipo de combustível (A - Álcool e G - Gasolina), calcule e imprima o valor a ser pago pelo cliente.\\n\\n---\\n\\n*PARA TORNAR O DESAFIO INTERESSANTE, VAMOS FAZER O PROGRAMA CRIAR UM NÚMERO ALEATÓRIO PARA O ABASTECIMENTO. ESTE NÚMERO DEVERÁ SER ENTRE 1 E 52*\\n\\n---\\n'"
            ],
            "application/vnd.google.colaboratory.intrinsic+json": {
              "type": "string"
            }
          },
          "metadata": {},
          "execution_count": 25
        }
      ]
    }
  ]
}